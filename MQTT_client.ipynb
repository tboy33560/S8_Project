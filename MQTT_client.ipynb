{
 "cells": [
  {
   "cell_type": "code",
   "execution_count": 10,
   "metadata": {},
   "outputs": [
    {
     "name": "stdout",
     "output_type": "stream",
     "text": [
      "Connected with result code 0\n",
      "Message received-> MotionEvents b'{\"acceleration\":{\"x\":-0.5401,\"y\":-0.7024,\"z\":0.4189},\"gyroscope\":{\"x\":0.0045,\"y\":-0.0034,\"z\":-0.0005},\"orientation\":{\"roll\":300.9731,\"pitch\":33.4165,\"yaw\":126.2264},\"compass\":126}'\n",
      "Message received-> MotionEvents b'{\"acceleration\":{\"x\":-0.5418,\"y\":-0.702,\"z\":0.4204},\"gyroscope\":{\"x\":-0.001,\"y\":0.0002,\"z\":-0.0008},\"orientation\":{\"roll\":300.97,\"pitch\":33.4165,\"yaw\":126.1645},\"compass\":126}'\n",
      "Message received-> MotionEvents b'{\"acceleration\":{\"x\":-0.5411,\"y\":-0.7022,\"z\":0.4204},\"gyroscope\":{\"x\":-0.0013,\"y\":0.0012,\"z\":0.0002},\"orientation\":{\"roll\":300.9697,\"pitch\":33.4101,\"yaw\":126.134},\"compass\":126}'\n",
      "Message received-> MotionEvents b'{\"acceleration\":{\"x\":-0.5416,\"y\":-0.702,\"z\":0.4231},\"gyroscope\":{\"x\":-0.001,\"y\":0.002,\"z\":0.0008},\"orientation\":{\"roll\":300.9632,\"pitch\":33.4129,\"yaw\":126.1059},\"compass\":126}'\n",
      "Message received-> MotionEvents b'{\"acceleration\":{\"x\":-0.5396,\"y\":-0.7015,\"z\":0.4233},\"gyroscope\":{\"x\":0.0033,\"y\":0.0014,\"z\":0.0008},\"orientation\":{\"roll\":300.9643,\"pitch\":33.4162,\"yaw\":126.1045},\"compass\":126}'\n",
      "Message received-> MotionEvents b'{\"acceleration\":{\"x\":-0.5421,\"y\":-0.7015,\"z\":0.4199},\"gyroscope\":{\"x\":-0.0034,\"y\":0.0009,\"z\":0.0005},\"orientation\":{\"roll\":300.9616,\"pitch\":33.4198,\"yaw\":126.0845},\"compass\":126}'\n",
      "Message received-> MotionEvents b'{\"acceleration\":{\"x\":-0.5396,\"y\":-0.7032,\"z\":0.4228},\"gyroscope\":{\"x\":0.0012,\"y\":0.0003,\"z\":0.001},\"orientation\":{\"roll\":300.9662,\"pitch\":33.4233,\"yaw\":126.0715},\"compass\":126}'\n",
      "Message received-> MotionEvents b'{\"acceleration\":{\"x\":-0.5403,\"y\":-0.702,\"z\":0.4223},\"gyroscope\":{\"x\":0.0018,\"y\":0,\"z\":-0.0002},\"orientation\":{\"roll\":300.9703,\"pitch\":33.4218,\"yaw\":126.1243},\"compass\":126}'\n",
      "Message received-> MotionEvents b'{\"acceleration\":{\"x\":-0.5408,\"y\":-0.7032,\"z\":0.425},\"gyroscope\":{\"x\":-0.0018,\"y\":0.0015,\"z\":-0.0002},\"orientation\":{\"roll\":300.9678,\"pitch\":33.4237,\"yaw\":126.1401},\"compass\":126}'\n",
      "Message received-> MotionEvents b'{\"acceleration\":{\"x\":-0.5386,\"y\":-0.7034,\"z\":0.4228},\"gyroscope\":{\"x\":0,\"y\":-0.0003,\"z\":-0.0005},\"orientation\":{\"roll\":300.9736,\"pitch\":33.42,\"yaw\":126.0897},\"compass\":126}'\n",
      "Message received-> MotionEvents b'{\"acceleration\":{\"x\":-0.5398,\"y\":-0.7027,\"z\":0.4226},\"gyroscope\":{\"x\":-0.0014,\"y\":0.0006,\"z\":0.0008},\"orientation\":{\"roll\":300.9677,\"pitch\":33.4124,\"yaw\":126.0414},\"compass\":126}'\n",
      "Message received-> MotionEvents b'{\"acceleration\":{\"x\":-0.5403,\"y\":-0.702,\"z\":0.4238},\"gyroscope\":{\"x\":0.001,\"y\":0.0003,\"z\":0.002},\"orientation\":{\"roll\":300.9746,\"pitch\":33.4121,\"yaw\":125.9921},\"compass\":126}'\n",
      "Message received-> MotionEvents b'{\"acceleration\":{\"x\":-0.5396,\"y\":-0.7022,\"z\":0.4233},\"gyroscope\":{\"x\":0.0013,\"y\":0.0012,\"z\":-0.0005},\"orientation\":{\"roll\":300.9829,\"pitch\":33.4186,\"yaw\":125.9254},\"compass\":126}'\n",
      "Message received-> MotionEvents b'{\"acceleration\":{\"x\":-0.5396,\"y\":-0.7012,\"z\":0.4233},\"gyroscope\":{\"x\":-0.002,\"y\":0.0038,\"z\":-0.0011},\"orientation\":{\"roll\":300.977,\"pitch\":33.4191,\"yaw\":125.9042},\"compass\":126}'\n",
      "Message received-> MotionEvents b'{\"acceleration\":{\"x\":-0.5423,\"y\":-0.6996,\"z\":0.4226},\"gyroscope\":{\"x\":0.0001,\"y\":-0.0007,\"z\":-0.0007},\"orientation\":{\"roll\":300.9887,\"pitch\":33.4142,\"yaw\":125.9255},\"compass\":126}'\n",
      "Message received-> MotionEvents b'{\"acceleration\":{\"x\":-0.5416,\"y\":-0.7005,\"z\":0.4233},\"gyroscope\":{\"x\":0.0049,\"y\":-0.0021,\"z\":-0.0013},\"orientation\":{\"roll\":300.9954,\"pitch\":33.411,\"yaw\":126.0235},\"compass\":126}'\n",
      "Message received-> MotionEvents b'{\"acceleration\":{\"x\":-0.5383,\"y\":-0.7027,\"z\":0.425},\"gyroscope\":{\"x\":-0.0017,\"y\":0.0003,\"z\":0.0002},\"orientation\":{\"roll\":300.996,\"pitch\":33.4148,\"yaw\":126.1371},\"compass\":126}'\n",
      "Message received-> MotionEvents b'{\"acceleration\":{\"x\":-0.5416,\"y\":-0.6991,\"z\":0.4223},\"gyroscope\":{\"x\":0.0007,\"y\":0.0006,\"z\":-0.0017},\"orientation\":{\"roll\":301.0001,\"pitch\":33.4168,\"yaw\":126.2487},\"compass\":126}'\n",
      "Message received-> MotionEvents b'{\"acceleration\":{\"x\":-0.5421,\"y\":-0.7005,\"z\":0.4233},\"gyroscope\":{\"x\":0.0007,\"y\":-0.0003,\"z\":-0.0004},\"orientation\":{\"roll\":301.0071,\"pitch\":33.4241,\"yaw\":126.3424},\"compass\":126}'\n",
      "Message received-> MotionEvents b'{\"acceleration\":{\"x\":-0.5418,\"y\":-0.7003,\"z\":0.4214},\"gyroscope\":{\"x\":-0.0008,\"y\":0.0007,\"z\":0.0008},\"orientation\":{\"roll\":301.0107,\"pitch\":33.4193,\"yaw\":126.3994},\"compass\":126}'\n"
     ]
    },
    {
     "ename": "KeyboardInterrupt",
     "evalue": "",
     "output_type": "error",
     "traceback": [
      "\u001b[1;31m---------------------------------------------------------------------------\u001b[0m",
      "\u001b[1;31mKeyboardInterrupt\u001b[0m                         Traceback (most recent call last)",
      "\u001b[1;32m<ipython-input-10-9b1d56807c23>\u001b[0m in \u001b[0;36m<module>\u001b[1;34m\u001b[0m\n\u001b[0;32m     18\u001b[0m \u001b[1;31m# client.connect(\"m2m.eclipse.org\", 1883, 60)  # Connect to (broker, port, keepalive-time)\u001b[0m\u001b[1;33m\u001b[0m\u001b[1;33m\u001b[0m\u001b[1;33m\u001b[0m\u001b[0m\n\u001b[0;32m     19\u001b[0m \u001b[0mclient\u001b[0m\u001b[1;33m.\u001b[0m\u001b[0mconnect\u001b[0m\u001b[1;33m(\u001b[0m\u001b[1;34m'35.180.252.26'\u001b[0m\u001b[1;33m,\u001b[0m \u001b[1;36m1883\u001b[0m\u001b[1;33m)\u001b[0m\u001b[1;33m\u001b[0m\u001b[1;33m\u001b[0m\u001b[0m\n\u001b[1;32m---> 20\u001b[1;33m \u001b[0mclient\u001b[0m\u001b[1;33m.\u001b[0m\u001b[0mloop_forever\u001b[0m\u001b[1;33m(\u001b[0m\u001b[1;33m)\u001b[0m  \u001b[1;31m# Start networking daemon\u001b[0m\u001b[1;33m\u001b[0m\u001b[1;33m\u001b[0m\u001b[0m\n\u001b[0m",
      "\u001b[1;32mC:\\Anadonda\\lib\\site-packages\\paho\\mqtt\\client.py\u001b[0m in \u001b[0;36mloop_forever\u001b[1;34m(self, timeout, max_packets, retry_first_connection)\u001b[0m\n\u001b[0;32m   1777\u001b[0m             \u001b[0mrc\u001b[0m \u001b[1;33m=\u001b[0m \u001b[0mMQTT_ERR_SUCCESS\u001b[0m\u001b[1;33m\u001b[0m\u001b[1;33m\u001b[0m\u001b[0m\n\u001b[0;32m   1778\u001b[0m             \u001b[1;32mwhile\u001b[0m \u001b[0mrc\u001b[0m \u001b[1;33m==\u001b[0m \u001b[0mMQTT_ERR_SUCCESS\u001b[0m\u001b[1;33m:\u001b[0m\u001b[1;33m\u001b[0m\u001b[1;33m\u001b[0m\u001b[0m\n\u001b[1;32m-> 1779\u001b[1;33m                 \u001b[0mrc\u001b[0m \u001b[1;33m=\u001b[0m \u001b[0mself\u001b[0m\u001b[1;33m.\u001b[0m\u001b[0mloop\u001b[0m\u001b[1;33m(\u001b[0m\u001b[0mtimeout\u001b[0m\u001b[1;33m,\u001b[0m \u001b[0mmax_packets\u001b[0m\u001b[1;33m)\u001b[0m\u001b[1;33m\u001b[0m\u001b[1;33m\u001b[0m\u001b[0m\n\u001b[0m\u001b[0;32m   1780\u001b[0m                 \u001b[1;31m# We don't need to worry about locking here, because we've\u001b[0m\u001b[1;33m\u001b[0m\u001b[1;33m\u001b[0m\u001b[1;33m\u001b[0m\u001b[0m\n\u001b[0;32m   1781\u001b[0m                 \u001b[1;31m# either called loop_forever() when in single threaded mode, or\u001b[0m\u001b[1;33m\u001b[0m\u001b[1;33m\u001b[0m\u001b[1;33m\u001b[0m\u001b[0m\n",
      "\u001b[1;32mC:\\Anadonda\\lib\\site-packages\\paho\\mqtt\\client.py\u001b[0m in \u001b[0;36mloop\u001b[1;34m(self, timeout, max_packets)\u001b[0m\n\u001b[0;32m   1165\u001b[0m         \u001b[0mrlist\u001b[0m \u001b[1;33m=\u001b[0m \u001b[1;33m[\u001b[0m\u001b[0mself\u001b[0m\u001b[1;33m.\u001b[0m\u001b[0m_sock\u001b[0m\u001b[1;33m,\u001b[0m \u001b[0mself\u001b[0m\u001b[1;33m.\u001b[0m\u001b[0m_sockpairR\u001b[0m\u001b[1;33m]\u001b[0m\u001b[1;33m\u001b[0m\u001b[1;33m\u001b[0m\u001b[0m\n\u001b[0;32m   1166\u001b[0m         \u001b[1;32mtry\u001b[0m\u001b[1;33m:\u001b[0m\u001b[1;33m\u001b[0m\u001b[1;33m\u001b[0m\u001b[0m\n\u001b[1;32m-> 1167\u001b[1;33m             \u001b[0msocklist\u001b[0m \u001b[1;33m=\u001b[0m \u001b[0mselect\u001b[0m\u001b[1;33m.\u001b[0m\u001b[0mselect\u001b[0m\u001b[1;33m(\u001b[0m\u001b[0mrlist\u001b[0m\u001b[1;33m,\u001b[0m \u001b[0mwlist\u001b[0m\u001b[1;33m,\u001b[0m \u001b[1;33m[\u001b[0m\u001b[1;33m]\u001b[0m\u001b[1;33m,\u001b[0m \u001b[0mtimeout\u001b[0m\u001b[1;33m)\u001b[0m\u001b[1;33m\u001b[0m\u001b[1;33m\u001b[0m\u001b[0m\n\u001b[0m\u001b[0;32m   1168\u001b[0m         \u001b[1;32mexcept\u001b[0m \u001b[0mTypeError\u001b[0m\u001b[1;33m:\u001b[0m\u001b[1;33m\u001b[0m\u001b[1;33m\u001b[0m\u001b[0m\n\u001b[0;32m   1169\u001b[0m             \u001b[1;31m# Socket isn't correct type, in likelihood connection is lost\u001b[0m\u001b[1;33m\u001b[0m\u001b[1;33m\u001b[0m\u001b[1;33m\u001b[0m\u001b[0m\n",
      "\u001b[1;31mKeyboardInterrupt\u001b[0m: "
     ]
    }
   ],
   "source": [
    "import paho.mqtt.client as mqtt\n",
    "\n",
    "\n",
    "def on_connect(client, userdata, flags, rc):  # The callback for when the client connects to the broker\n",
    "    print(\"Connected with result code {0}\".format(str(rc)))  # Print result of connection attempt\n",
    "    client.subscribe(\"MotionEvents\")  # Subscribe to the topic “digitest/test1”, receive any messages published on it\n",
    "\n",
    "\n",
    "def on_message(client, userdata, msg):  # The callback for when a PUBLISH message is received from the server.\n",
    "    print(\"Message received-> \" + msg.topic + \" \" + str(msg.payload))  # Print a received msg\n",
    "    with open('data.txt','w') as file:\n",
    "         file.write(\"Message received: \"  + str(msg.payload) + \"\\n\")\n",
    "\n",
    "\n",
    "client = mqtt.Client(\"MQTT\")  # Create instance of client with client ID “digi_mqtt_test”\n",
    "client.on_connect = on_connect  # Define callback function for successful connection\n",
    "client.on_message = on_message  # Define callback function for receipt of a message\n",
    "# client.connect(\"m2m.eclipse.org\", 1883, 60)  # Connect to (broker, port, keepalive-time)\n",
    "client.connect('35.180.252.26', 1883)\n",
    "client.loop_forever()  # Start networking daemon\n"
   ]
  },
  {
   "cell_type": "code",
   "execution_count": null,
   "metadata": {},
   "outputs": [],
   "source": []
  },
  {
   "cell_type": "code",
   "execution_count": null,
   "metadata": {},
   "outputs": [],
   "source": []
  },
  {
   "cell_type": "code",
   "execution_count": null,
   "metadata": {},
   "outputs": [],
   "source": []
  }
 ],
 "metadata": {
  "kernelspec": {
   "display_name": "Python 3",
   "language": "python",
   "name": "python3"
  },
  "language_info": {
   "codemirror_mode": {
    "name": "ipython",
    "version": 3
   },
   "file_extension": ".py",
   "mimetype": "text/x-python",
   "name": "python",
   "nbconvert_exporter": "python",
   "pygments_lexer": "ipython3",
   "version": "3.8.5"
  }
 },
 "nbformat": 4,
 "nbformat_minor": 4
}
