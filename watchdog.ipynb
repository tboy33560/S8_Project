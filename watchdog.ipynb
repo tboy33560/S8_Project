{
 "cells": [
  {
   "cell_type": "code",
   "execution_count": 3,
   "metadata": {},
   "outputs": [
    {
     "name": "stdout",
     "output_type": "stream",
     "text": [
      "hey, .\\Nouveau document texte.txt has been created!\n",
      "ok ok ok, someone moved .\\Nouveau document texte.txt to .\\dsqddq.txt\n",
      "what the f**k! Someone deleted .\\dsqddq.txt!\n",
      "hey, .\\.~watchdog.ipynb has been created!\n",
      "what the f**k! Someone deleted .\\.~watchdog.ipynb!\n"
     ]
    }
   ],
   "source": [
    "# inspired by http://thepythoncorner.com/dev/how-to-create-a-watchdog-in-python-to-look-for-filesystem-changes/\n",
    "import time\n",
    "from watchdog.observers import Observer\n",
    "from watchdog.events import PatternMatchingEventHandler\n",
    "\n",
    "#def on_created(event):\n",
    "#    print(f\"hey, {event.src_path} has been created!\")\n",
    "\n",
    "#def on_deleted(event):\n",
    "#    print(f\"what the f**k! Someone deleted {event.src_path}!\")\n",
    "\n",
    "def modified_file(event):\n",
    "    if {event.src_path} == \".\\agenda.csv\" or {event.src_path} == \".\\phoneInfos.csv\" or {event.src_path} == \".\\watchInfos.csv\":\n",
    "        import bayesianNetwork\n",
    "    elif {event.src_path} == \".\\agenda.ics\":\n",
    "        import ics2csv\n",
    "\n",
    "#def on_moved(event):\n",
    "#    print(f\"ok ok ok, someone moved {event.src_path} to {event.dest_path}\")\n",
    "\n",
    "    \n",
    "if __name__ == \"__main__\":\n",
    "    my_event_handler = PatternMatchingEventHandler(\"*\", \"\", False, True)\n",
    "    my_event_handler.on_created = on_created\n",
    "    my_event_handler.on_deleted = on_deleted\n",
    "    my_event_handler.on_modified = modified_file\n",
    "    my_event_handler.on_moved = on_moved\n",
    "    \n",
    "my_observer = Observer()\n",
    "my_observer.schedule(my_event_handler, \".\", recursive=True)\n",
    "\n",
    "my_observer.start()\n",
    "try:\n",
    "    while True:\n",
    "        time.sleep(1)\n",
    "except KeyboardInterrupt:\n",
    "    my_observer.stop()\n",
    "    my_observer.join()"
   ]
  },
  {
   "cell_type": "code",
   "execution_count": null,
   "metadata": {},
   "outputs": [],
   "source": []
  }
 ],
 "metadata": {
  "kernelspec": {
   "display_name": "Python 3",
   "language": "python",
   "name": "python3"
  },
  "language_info": {
   "codemirror_mode": {
    "name": "ipython",
    "version": 3
   },
   "file_extension": ".py",
   "mimetype": "text/x-python",
   "name": "python",
   "nbconvert_exporter": "python",
   "pygments_lexer": "ipython3",
   "version": "3.8.5"
  }
 },
 "nbformat": 4,
 "nbformat_minor": 4
}
